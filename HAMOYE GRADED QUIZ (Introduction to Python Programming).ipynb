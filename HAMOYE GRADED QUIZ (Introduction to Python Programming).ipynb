{
 "cells": [
  {
   "cell_type": "code",
   "execution_count": 1,
   "id": "75901b86",
   "metadata": {},
   "outputs": [],
   "source": [
    "import numpy as np\n",
    "import pandas as pd"
   ]
  },
  {
   "cell_type": "code",
   "execution_count": 2,
   "id": "b06d960f",
   "metadata": {},
   "outputs": [],
   "source": [
    "df = pd.read_csv('C:/Users/USER/Downloads/FoodBalanceSheets_E_Africa_NOFLAG.csv', encoding = 'latin-1')"
   ]
  },
  {
   "cell_type": "code",
   "execution_count": 68,
   "id": "ea3e77f4",
   "metadata": {},
   "outputs": [
    {
     "data": {
      "text/html": [
       "<div>\n",
       "<style scoped>\n",
       "    .dataframe tbody tr th:only-of-type {\n",
       "        vertical-align: middle;\n",
       "    }\n",
       "\n",
       "    .dataframe tbody tr th {\n",
       "        vertical-align: top;\n",
       "    }\n",
       "\n",
       "    .dataframe thead th {\n",
       "        text-align: right;\n",
       "    }\n",
       "</style>\n",
       "<table border=\"1\" class=\"dataframe\">\n",
       "  <thead>\n",
       "    <tr style=\"text-align: right;\">\n",
       "      <th></th>\n",
       "      <th>Area Code</th>\n",
       "      <th>Area</th>\n",
       "      <th>Item Code</th>\n",
       "      <th>Item</th>\n",
       "      <th>Element Code</th>\n",
       "      <th>Element</th>\n",
       "      <th>Unit</th>\n",
       "      <th>Y2014</th>\n",
       "      <th>Y2015</th>\n",
       "      <th>Y2016</th>\n",
       "      <th>Y2017</th>\n",
       "      <th>Y2018</th>\n",
       "    </tr>\n",
       "  </thead>\n",
       "  <tbody>\n",
       "    <tr>\n",
       "      <th>0</th>\n",
       "      <td>4</td>\n",
       "      <td>Algeria</td>\n",
       "      <td>2501</td>\n",
       "      <td>Population</td>\n",
       "      <td>511</td>\n",
       "      <td>Total Population - Both sexes</td>\n",
       "      <td>1000 persons</td>\n",
       "      <td>38924.00</td>\n",
       "      <td>39728.00</td>\n",
       "      <td>40551.00</td>\n",
       "      <td>41389.00</td>\n",
       "      <td>42228.00</td>\n",
       "    </tr>\n",
       "    <tr>\n",
       "      <th>1</th>\n",
       "      <td>4</td>\n",
       "      <td>Algeria</td>\n",
       "      <td>2501</td>\n",
       "      <td>Population</td>\n",
       "      <td>5301</td>\n",
       "      <td>Domestic supply quantity</td>\n",
       "      <td>1000 tonnes</td>\n",
       "      <td>0.00</td>\n",
       "      <td>0.00</td>\n",
       "      <td>0.00</td>\n",
       "      <td>0.00</td>\n",
       "      <td>0.00</td>\n",
       "    </tr>\n",
       "    <tr>\n",
       "      <th>2</th>\n",
       "      <td>4</td>\n",
       "      <td>Algeria</td>\n",
       "      <td>2901</td>\n",
       "      <td>Grand Total</td>\n",
       "      <td>664</td>\n",
       "      <td>Food supply (kcal/capita/day)</td>\n",
       "      <td>kcal/capita/day</td>\n",
       "      <td>3377.00</td>\n",
       "      <td>3379.00</td>\n",
       "      <td>3372.00</td>\n",
       "      <td>3341.00</td>\n",
       "      <td>3322.00</td>\n",
       "    </tr>\n",
       "    <tr>\n",
       "      <th>3</th>\n",
       "      <td>4</td>\n",
       "      <td>Algeria</td>\n",
       "      <td>2901</td>\n",
       "      <td>Grand Total</td>\n",
       "      <td>674</td>\n",
       "      <td>Protein supply quantity (g/capita/day)</td>\n",
       "      <td>g/capita/day</td>\n",
       "      <td>94.90</td>\n",
       "      <td>94.35</td>\n",
       "      <td>94.72</td>\n",
       "      <td>92.82</td>\n",
       "      <td>91.83</td>\n",
       "    </tr>\n",
       "    <tr>\n",
       "      <th>4</th>\n",
       "      <td>4</td>\n",
       "      <td>Algeria</td>\n",
       "      <td>2901</td>\n",
       "      <td>Grand Total</td>\n",
       "      <td>684</td>\n",
       "      <td>Fat supply quantity (g/capita/day)</td>\n",
       "      <td>g/capita/day</td>\n",
       "      <td>80.06</td>\n",
       "      <td>79.36</td>\n",
       "      <td>77.40</td>\n",
       "      <td>80.19</td>\n",
       "      <td>77.28</td>\n",
       "    </tr>\n",
       "  </tbody>\n",
       "</table>\n",
       "</div>"
      ],
      "text/plain": [
       "   Area Code     Area  Item Code         Item  Element Code  \\\n",
       "0          4  Algeria       2501   Population           511   \n",
       "1          4  Algeria       2501   Population          5301   \n",
       "2          4  Algeria       2901  Grand Total           664   \n",
       "3          4  Algeria       2901  Grand Total           674   \n",
       "4          4  Algeria       2901  Grand Total           684   \n",
       "\n",
       "                                  Element             Unit     Y2014  \\\n",
       "0           Total Population - Both sexes     1000 persons  38924.00   \n",
       "1                Domestic supply quantity      1000 tonnes      0.00   \n",
       "2           Food supply (kcal/capita/day)  kcal/capita/day   3377.00   \n",
       "3  Protein supply quantity (g/capita/day)     g/capita/day     94.90   \n",
       "4      Fat supply quantity (g/capita/day)     g/capita/day     80.06   \n",
       "\n",
       "      Y2015     Y2016     Y2017     Y2018  \n",
       "0  39728.00  40551.00  41389.00  42228.00  \n",
       "1      0.00      0.00      0.00      0.00  \n",
       "2   3379.00   3372.00   3341.00   3322.00  \n",
       "3     94.35     94.72     92.82     91.83  \n",
       "4     79.36     77.40     80.19     77.28  "
      ]
     },
     "execution_count": 68,
     "metadata": {},
     "output_type": "execute_result"
    }
   ],
   "source": [
    "df.head()"
   ]
  },
  {
   "cell_type": "code",
   "execution_count": 7,
   "id": "9ff15519",
   "metadata": {},
   "outputs": [
    {
     "data": {
      "text/plain": [
       "(60943, 12)"
      ]
     },
     "execution_count": 7,
     "metadata": {},
     "output_type": "execute_result"
    }
   ],
   "source": [
    "df.shape"
   ]
  },
  {
   "cell_type": "code",
   "execution_count": 25,
   "id": "1b57a5bb",
   "metadata": {},
   "outputs": [
    {
     "data": {
      "text/plain": [
       "49"
      ]
     },
     "execution_count": 25,
     "metadata": {},
     "output_type": "execute_result"
    }
   ],
   "source": [
    "country = df['Area'].unique()\n",
    "num_country = len(set(country))\n",
    "num_country"
   ]
  },
  {
   "cell_type": "code",
   "execution_count": 85,
   "id": "4192b92d",
   "metadata": {},
   "outputs": [
    {
     "data": {
      "text/plain": [
       "count     59437.000000\n",
       "mean        140.917765\n",
       "std        1671.862359\n",
       "min       -1582.000000\n",
       "25%           0.000000\n",
       "50%           0.100000\n",
       "75%           9.000000\n",
       "max      190873.000000\n",
       "Name: Y2017, dtype: float64"
      ]
     },
     "execution_count": 85,
     "metadata": {},
     "output_type": "execute_result"
    }
   ],
   "source": [
    "df['Y2017'].describe() #2dp"
   ]
  },
  {
   "cell_type": "code",
   "execution_count": 42,
   "id": "3267738b",
   "metadata": {},
   "outputs": [],
   "source": [
    "Y2017_min = df.groupby('Area')['Y2017'].min()\n",
    "Y2017_max = df.groupby('Area')['Y2017'].max()\n"
   ]
  },
  {
   "cell_type": "code",
   "execution_count": 44,
   "id": "efb628f9",
   "metadata": {},
   "outputs": [
    {
     "data": {
      "text/plain": [
       "Area\n",
       "Algeria                         -81.0\n",
       "Angola                         -250.0\n",
       "Benin                          -125.0\n",
       "Botswana                        -38.0\n",
       "Burkina Faso                   -281.0\n",
       "Cabo Verde                       -7.0\n",
       "Cameroon                       -147.0\n",
       "Central African Republic         -1.0\n",
       "Chad                            -37.0\n",
       "Comoros                           0.0\n",
       "Congo                            -4.0\n",
       "Côte d'Ivoire                  -244.0\n",
       "Djibouti                         -2.0\n",
       "Egypt                         -1582.0\n",
       "Eswatini                       -100.0\n",
       "Ethiopia                       -792.0\n",
       "Ethiopia PDR                      0.0\n",
       "Gabon                           -37.0\n",
       "Gambia                           -2.0\n",
       "Ghana                          -121.0\n",
       "Guinea                         -108.0\n",
       "Guinea-Bissau                    -3.0\n",
       "Kenya                          -186.0\n",
       "Lesotho                          -4.0\n",
       "Liberia                         -19.0\n",
       "Madagascar                     -324.0\n",
       "Malawi                          -50.0\n",
       "Mali                           -600.0\n",
       "Mauritania                       -1.0\n",
       "Mauritius                       -25.0\n",
       "Morocco                        -229.0\n",
       "Mozambique                    -1200.0\n",
       "Namibia                         -35.0\n",
       "Niger                          -682.0\n",
       "Nigeria                        -694.0\n",
       "Rwanda                         -631.0\n",
       "Sao Tome and Principe             0.0\n",
       "Senegal                         -68.0\n",
       "Seychelles                        0.0\n",
       "Sierra Leone                   -180.0\n",
       "South Africa                   -144.0\n",
       "Sudan                          -819.0\n",
       "Sudan (former)                    0.0\n",
       "Togo                            -32.0\n",
       "Tunisia                        -186.0\n",
       "Uganda                         -180.0\n",
       "United Republic of Tanzania    -865.0\n",
       "Zambia                          -42.0\n",
       "Zimbabwe                       -521.0\n",
       "Name: Y2017, dtype: float64"
      ]
     },
     "execution_count": 44,
     "metadata": {},
     "output_type": "execute_result"
    }
   ],
   "source": [
    "Y2017_min"
   ]
  },
  {
   "cell_type": "code",
   "execution_count": 40,
   "id": "2cab3085",
   "metadata": {},
   "outputs": [
    {
     "data": {
      "text/plain": [
       "Area\n",
       "Algeria                         41389.00\n",
       "Angola                          29817.00\n",
       "Benin                           11175.00\n",
       "Botswana                         2341.00\n",
       "Burkina Faso                    19193.00\n",
       "Cabo Verde                       2530.00\n",
       "Cameroon                        24566.00\n",
       "Central African Republic         4596.00\n",
       "Chad                            15017.00\n",
       "Comoros                            16.65\n",
       "Congo                            5111.00\n",
       "Côte d'Ivoire                   24437.00\n",
       "Djibouti                         2664.00\n",
       "Egypt                           96443.00\n",
       "Eswatini                         5553.00\n",
       "Ethiopia                       106400.00\n",
       "Ethiopia PDR                        0.00\n",
       "Gabon                            2640.00\n",
       "Gambia                           2544.00\n",
       "Ghana                           29121.00\n",
       "Guinea                          12068.00\n",
       "Guinea-Bissau                    2233.00\n",
       "Kenya                           50221.00\n",
       "Lesotho                          2475.00\n",
       "Liberia                          4702.00\n",
       "Madagascar                      25571.00\n",
       "Malawi                          17670.00\n",
       "Mali                            18512.00\n",
       "Mauritania                      51864.00\n",
       "Mauritius                        3713.00\n",
       "Morocco                         38348.00\n",
       "Mozambique                      28649.00\n",
       "Namibia                          2465.00\n",
       "Niger                           21602.00\n",
       "Nigeria                        190873.00\n",
       "Rwanda                          11981.00\n",
       "Sao Tome and Principe            2407.00\n",
       "Senegal                         15419.00\n",
       "Seychelles                        204.02\n",
       "Sierra Leone                     7488.00\n",
       "South Africa                    57010.00\n",
       "Sudan                           40813.00\n",
       "Sudan (former)                      0.00\n",
       "Togo                             7698.00\n",
       "Tunisia                         11433.00\n",
       "Uganda                          41167.00\n",
       "United Republic of Tanzania     54660.00\n",
       "Zambia                          16854.00\n",
       "Zimbabwe                        14237.00\n",
       "Name: Y2017, dtype: float64"
      ]
     },
     "execution_count": 40,
     "metadata": {},
     "output_type": "execute_result"
    }
   ],
   "source": [
    "Y2017_max"
   ]
  },
  {
   "cell_type": "code",
   "execution_count": 73,
   "id": "7edb5e76",
   "metadata": {},
   "outputs": [
    {
     "data": {
      "text/plain": [
       "Element\n",
       "Domestic supply quantity                  2088198.10\n",
       "Export Quantity                            182338.80\n",
       "Fat supply quantity (g/capita/day)          10253.84\n",
       "Feed                                       223705.68\n",
       "Food                                      1258888.28\n",
       "Food supply (kcal/capita/day)              454681.00\n",
       "Food supply quantity (kg/capita/yr)         48690.04\n",
       "Import Quantity                            294559.09\n",
       "Losses                                     160614.00\n",
       "Other uses (non-food)                       91645.97\n",
       "Processing                                 292836.00\n",
       "Production                                2030056.89\n",
       "Protein supply quantity (g/capita/day)      11842.45\n",
       "Residuals                                   35500.00\n",
       "Seed                                        24870.14\n",
       "Stock Variation                             54316.91\n",
       "Total Population - Both sexes             1112641.00\n",
       "Tourist consumption                            91.00\n",
       "Name: Y2017, dtype: float64"
      ]
     },
     "execution_count": 73,
     "metadata": {},
     "output_type": "execute_result"
    }
   ],
   "source": [
    "Processing_sum = df.groupby('Element')['Y2017'].sum()\n",
    "Processing_sum"
   ]
  },
  {
   "cell_type": "code",
   "execution_count": 55,
   "id": "4157f974",
   "metadata": {},
   "outputs": [
    {
     "data": {
      "text/plain": [
       "Area Code                                                 8182547\n",
       "Area            AlgeriaAlgeriaAlgeriaAlgeriaAlgeriaAlgeriaAlge...\n",
       "Item Code                                               163764610\n",
       "Item            PopulationCereals - Excluding BeerWheat and pr...\n",
       "Element Code                                            232488797\n",
       "Unit            1000 tonnes1000 tonnes1000 tonnes1000 tonnes10...\n",
       "Y2014                                                  7965086.13\n",
       "Y2015                                                  8032340.23\n",
       "Y2016                                                  8112472.65\n",
       "Y2017                                                  8375729.19\n",
       "Y2018                                                  8554629.96\n",
       "dtype: object"
      ]
     },
     "execution_count": 55,
     "metadata": {},
     "output_type": "execute_result"
    }
   ],
   "source": [
    "highest_sum = df.groupby('Element')[].sum()\n",
    "highest_sum.sum()"
   ]
  },
  {
   "cell_type": "code",
   "execution_count": 65,
   "id": "c31627a6",
   "metadata": {},
   "outputs": [
    {
     "ename": "TypeError",
     "evalue": "Series.corr() missing 1 required positional argument: 'other'",
     "output_type": "error",
     "traceback": [
      "\u001b[1;31m---------------------------------------------------------------------------\u001b[0m",
      "\u001b[1;31mTypeError\u001b[0m                                 Traceback (most recent call last)",
      "Cell \u001b[1;32mIn[65], line 1\u001b[0m\n\u001b[1;32m----> 1\u001b[0m df[\u001b[38;5;124m'\u001b[39m\u001b[38;5;124mY2014\u001b[39m\u001b[38;5;124m'\u001b[39m]\u001b[38;5;241m.\u001b[39mcorr()\n",
      "\u001b[1;31mTypeError\u001b[0m: Series.corr() missing 1 required positional argument: 'other'"
     ]
    }
   ],
   "source": [
    "# df['Y2014'].corr()"
   ]
  },
  {
   "cell_type": "code",
   "execution_count": 71,
   "id": "05234db6",
   "metadata": {},
   "outputs": [
    {
     "data": {
      "text/plain": [
       "Area Code          0\n",
       "Area               0\n",
       "Item Code          0\n",
       "Item               0\n",
       "Element Code       0\n",
       "Element            0\n",
       "Unit               0\n",
       "Y2014           1589\n",
       "Y2015           1548\n",
       "Y2016           1535\n",
       "Y2017           1506\n",
       "Y2018           1436\n",
       "dtype: int64"
      ]
     },
     "execution_count": 71,
     "metadata": {},
     "output_type": "execute_result"
    }
   ],
   "source": [
    "df.isna().sum()"
   ]
  },
  {
   "cell_type": "code",
   "execution_count": 81,
   "id": "2c8aa7cf",
   "metadata": {},
   "outputs": [
    {
     "data": {
      "text/plain": [
       "Element\n",
       "Domestic supply quantity                  2021493.55\n",
       "Export Quantity                            157614.47\n",
       "Fat supply quantity (g/capita/day)          10235.74\n",
       "Feed                                       225050.22\n",
       "Food                                      1232361.10\n",
       "Food supply (kcal/capita/day)              453383.00\n",
       "Food supply quantity (kg/capita/yr)         49345.13\n",
       "Import Quantity                            267018.46\n",
       "Losses                                     155439.00\n",
       "Other uses (non-food)                       66254.41\n",
       "Processing                                 287929.00\n",
       "Production                                1947019.39\n",
       "Protein supply quantity (g/capita/day)      11833.95\n",
       "Residuals                                   30045.00\n",
       "Seed                                        23976.82\n",
       "Stock Variation                             34910.99\n",
       "Total Population - Both sexes             1058081.00\n",
       "Tourist consumption                           349.00\n",
       "Name: Y2015, dtype: float64"
      ]
     },
     "execution_count": 81,
     "metadata": {},
     "output_type": "execute_result"
    }
   ],
   "source": [
    "protein_supply = df.groupby('Element',)['Y2015'].sum()\n",
    "protein_supply"
   ]
  },
  {
   "cell_type": "code",
   "execution_count": null,
   "id": "11108cc0",
   "metadata": {},
   "outputs": [],
   "source": []
  }
 ],
 "metadata": {
  "kernelspec": {
   "display_name": "Python 3 (ipykernel)",
   "language": "python",
   "name": "python3"
  },
  "language_info": {
   "codemirror_mode": {
    "name": "ipython",
    "version": 3
   },
   "file_extension": ".py",
   "mimetype": "text/x-python",
   "name": "python",
   "nbconvert_exporter": "python",
   "pygments_lexer": "ipython3",
   "version": "3.11.5"
  }
 },
 "nbformat": 4,
 "nbformat_minor": 5
}
